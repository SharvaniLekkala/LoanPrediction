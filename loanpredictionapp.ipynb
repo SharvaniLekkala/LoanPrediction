{
  "cells": [
    {
      "cell_type": "code",
      "execution_count": 22,
      "metadata": {
        "id": "SwOjnvMIIl1v"
      },
      "outputs": [],
      "source": [
        "import pandas as pd\n",
        "import matplotlib.pyplot as plt\n",
        "from sklearn.linear_model import LogisticRegression\n",
        "from sklearn.metrics import accuracy_score, classification_report, confusion_matrix\n",
        "from sklearn.model_selection import train_test_split"
      ]
    },
    {
      "cell_type": "code",
      "execution_count": 23,
      "metadata": {
        "colab": {
          "base_uri": "https://localhost:8080/",
          "height": 181
        },
        "id": "___TCmRVIqUi",
        "outputId": "e552e936-6e57-42b0-e941-e82c9fe0c304"
      },
      "outputs": [
        {
          "output_type": "execute_result",
          "data": {
            "text/plain": [
              "   loan_id   no_of_dependents      education  self_employed   income_annum  \\\n",
              "0        1                  2       Graduate             No        9600000   \n",
              "1        2                  0   Not Graduate            Yes        4100000   \n",
              "2        3                  3       Graduate             No        9100000   \n",
              "\n",
              "    loan_amount   loan_term   cibil_score   residential_assets_value  \\\n",
              "0      29900000          12           778                    2400000   \n",
              "1      12200000           8           417                    2700000   \n",
              "2      29700000          20           506                    7100000   \n",
              "\n",
              "    commercial_assets_value   luxury_assets_value   bank_asset_value  \\\n",
              "0                  17600000              22700000            8000000   \n",
              "1                   2200000               8800000            3300000   \n",
              "2                   4500000              33300000           12800000   \n",
              "\n",
              "   loan_status  \n",
              "0     Approved  \n",
              "1     Rejected  \n",
              "2     Rejected  "
            ],
            "text/html": [
              "\n",
              "  <div id=\"df-db53831b-b5cd-4ab8-9430-5cc980afdc64\" class=\"colab-df-container\">\n",
              "    <div>\n",
              "<style scoped>\n",
              "    .dataframe tbody tr th:only-of-type {\n",
              "        vertical-align: middle;\n",
              "    }\n",
              "\n",
              "    .dataframe tbody tr th {\n",
              "        vertical-align: top;\n",
              "    }\n",
              "\n",
              "    .dataframe thead th {\n",
              "        text-align: right;\n",
              "    }\n",
              "</style>\n",
              "<table border=\"1\" class=\"dataframe\">\n",
              "  <thead>\n",
              "    <tr style=\"text-align: right;\">\n",
              "      <th></th>\n",
              "      <th>loan_id</th>\n",
              "      <th>no_of_dependents</th>\n",
              "      <th>education</th>\n",
              "      <th>self_employed</th>\n",
              "      <th>income_annum</th>\n",
              "      <th>loan_amount</th>\n",
              "      <th>loan_term</th>\n",
              "      <th>cibil_score</th>\n",
              "      <th>residential_assets_value</th>\n",
              "      <th>commercial_assets_value</th>\n",
              "      <th>luxury_assets_value</th>\n",
              "      <th>bank_asset_value</th>\n",
              "      <th>loan_status</th>\n",
              "    </tr>\n",
              "  </thead>\n",
              "  <tbody>\n",
              "    <tr>\n",
              "      <th>0</th>\n",
              "      <td>1</td>\n",
              "      <td>2</td>\n",
              "      <td>Graduate</td>\n",
              "      <td>No</td>\n",
              "      <td>9600000</td>\n",
              "      <td>29900000</td>\n",
              "      <td>12</td>\n",
              "      <td>778</td>\n",
              "      <td>2400000</td>\n",
              "      <td>17600000</td>\n",
              "      <td>22700000</td>\n",
              "      <td>8000000</td>\n",
              "      <td>Approved</td>\n",
              "    </tr>\n",
              "    <tr>\n",
              "      <th>1</th>\n",
              "      <td>2</td>\n",
              "      <td>0</td>\n",
              "      <td>Not Graduate</td>\n",
              "      <td>Yes</td>\n",
              "      <td>4100000</td>\n",
              "      <td>12200000</td>\n",
              "      <td>8</td>\n",
              "      <td>417</td>\n",
              "      <td>2700000</td>\n",
              "      <td>2200000</td>\n",
              "      <td>8800000</td>\n",
              "      <td>3300000</td>\n",
              "      <td>Rejected</td>\n",
              "    </tr>\n",
              "    <tr>\n",
              "      <th>2</th>\n",
              "      <td>3</td>\n",
              "      <td>3</td>\n",
              "      <td>Graduate</td>\n",
              "      <td>No</td>\n",
              "      <td>9100000</td>\n",
              "      <td>29700000</td>\n",
              "      <td>20</td>\n",
              "      <td>506</td>\n",
              "      <td>7100000</td>\n",
              "      <td>4500000</td>\n",
              "      <td>33300000</td>\n",
              "      <td>12800000</td>\n",
              "      <td>Rejected</td>\n",
              "    </tr>\n",
              "  </tbody>\n",
              "</table>\n",
              "</div>\n",
              "    <div class=\"colab-df-buttons\">\n",
              "\n",
              "  <div class=\"colab-df-container\">\n",
              "    <button class=\"colab-df-convert\" onclick=\"convertToInteractive('df-db53831b-b5cd-4ab8-9430-5cc980afdc64')\"\n",
              "            title=\"Convert this dataframe to an interactive table.\"\n",
              "            style=\"display:none;\">\n",
              "\n",
              "  <svg xmlns=\"http://www.w3.org/2000/svg\" height=\"24px\" viewBox=\"0 -960 960 960\">\n",
              "    <path d=\"M120-120v-720h720v720H120Zm60-500h600v-160H180v160Zm220 220h160v-160H400v160Zm0 220h160v-160H400v160ZM180-400h160v-160H180v160Zm440 0h160v-160H620v160ZM180-180h160v-160H180v160Zm440 0h160v-160H620v160Z\"/>\n",
              "  </svg>\n",
              "    </button>\n",
              "\n",
              "  <style>\n",
              "    .colab-df-container {\n",
              "      display:flex;\n",
              "      gap: 12px;\n",
              "    }\n",
              "\n",
              "    .colab-df-convert {\n",
              "      background-color: #E8F0FE;\n",
              "      border: none;\n",
              "      border-radius: 50%;\n",
              "      cursor: pointer;\n",
              "      display: none;\n",
              "      fill: #1967D2;\n",
              "      height: 32px;\n",
              "      padding: 0 0 0 0;\n",
              "      width: 32px;\n",
              "    }\n",
              "\n",
              "    .colab-df-convert:hover {\n",
              "      background-color: #E2EBFA;\n",
              "      box-shadow: 0px 1px 2px rgba(60, 64, 67, 0.3), 0px 1px 3px 1px rgba(60, 64, 67, 0.15);\n",
              "      fill: #174EA6;\n",
              "    }\n",
              "\n",
              "    .colab-df-buttons div {\n",
              "      margin-bottom: 4px;\n",
              "    }\n",
              "\n",
              "    [theme=dark] .colab-df-convert {\n",
              "      background-color: #3B4455;\n",
              "      fill: #D2E3FC;\n",
              "    }\n",
              "\n",
              "    [theme=dark] .colab-df-convert:hover {\n",
              "      background-color: #434B5C;\n",
              "      box-shadow: 0px 1px 3px 1px rgba(0, 0, 0, 0.15);\n",
              "      filter: drop-shadow(0px 1px 2px rgba(0, 0, 0, 0.3));\n",
              "      fill: #FFFFFF;\n",
              "    }\n",
              "  </style>\n",
              "\n",
              "    <script>\n",
              "      const buttonEl =\n",
              "        document.querySelector('#df-db53831b-b5cd-4ab8-9430-5cc980afdc64 button.colab-df-convert');\n",
              "      buttonEl.style.display =\n",
              "        google.colab.kernel.accessAllowed ? 'block' : 'none';\n",
              "\n",
              "      async function convertToInteractive(key) {\n",
              "        const element = document.querySelector('#df-db53831b-b5cd-4ab8-9430-5cc980afdc64');\n",
              "        const dataTable =\n",
              "          await google.colab.kernel.invokeFunction('convertToInteractive',\n",
              "                                                    [key], {});\n",
              "        if (!dataTable) return;\n",
              "\n",
              "        const docLinkHtml = 'Like what you see? Visit the ' +\n",
              "          '<a target=\"_blank\" href=https://colab.research.google.com/notebooks/data_table.ipynb>data table notebook</a>'\n",
              "          + ' to learn more about interactive tables.';\n",
              "        element.innerHTML = '';\n",
              "        dataTable['output_type'] = 'display_data';\n",
              "        await google.colab.output.renderOutput(dataTable, element);\n",
              "        const docLink = document.createElement('div');\n",
              "        docLink.innerHTML = docLinkHtml;\n",
              "        element.appendChild(docLink);\n",
              "      }\n",
              "    </script>\n",
              "  </div>\n",
              "\n",
              "\n",
              "<div id=\"df-daaecf21-9176-489a-9e91-84938b387090\">\n",
              "  <button class=\"colab-df-quickchart\" onclick=\"quickchart('df-daaecf21-9176-489a-9e91-84938b387090')\"\n",
              "            title=\"Suggest charts\"\n",
              "            style=\"display:none;\">\n",
              "\n",
              "<svg xmlns=\"http://www.w3.org/2000/svg\" height=\"24px\"viewBox=\"0 0 24 24\"\n",
              "     width=\"24px\">\n",
              "    <g>\n",
              "        <path d=\"M19 3H5c-1.1 0-2 .9-2 2v14c0 1.1.9 2 2 2h14c1.1 0 2-.9 2-2V5c0-1.1-.9-2-2-2zM9 17H7v-7h2v7zm4 0h-2V7h2v10zm4 0h-2v-4h2v4z\"/>\n",
              "    </g>\n",
              "</svg>\n",
              "  </button>\n",
              "\n",
              "<style>\n",
              "  .colab-df-quickchart {\n",
              "      --bg-color: #E8F0FE;\n",
              "      --fill-color: #1967D2;\n",
              "      --hover-bg-color: #E2EBFA;\n",
              "      --hover-fill-color: #174EA6;\n",
              "      --disabled-fill-color: #AAA;\n",
              "      --disabled-bg-color: #DDD;\n",
              "  }\n",
              "\n",
              "  [theme=dark] .colab-df-quickchart {\n",
              "      --bg-color: #3B4455;\n",
              "      --fill-color: #D2E3FC;\n",
              "      --hover-bg-color: #434B5C;\n",
              "      --hover-fill-color: #FFFFFF;\n",
              "      --disabled-bg-color: #3B4455;\n",
              "      --disabled-fill-color: #666;\n",
              "  }\n",
              "\n",
              "  .colab-df-quickchart {\n",
              "    background-color: var(--bg-color);\n",
              "    border: none;\n",
              "    border-radius: 50%;\n",
              "    cursor: pointer;\n",
              "    display: none;\n",
              "    fill: var(--fill-color);\n",
              "    height: 32px;\n",
              "    padding: 0;\n",
              "    width: 32px;\n",
              "  }\n",
              "\n",
              "  .colab-df-quickchart:hover {\n",
              "    background-color: var(--hover-bg-color);\n",
              "    box-shadow: 0 1px 2px rgba(60, 64, 67, 0.3), 0 1px 3px 1px rgba(60, 64, 67, 0.15);\n",
              "    fill: var(--button-hover-fill-color);\n",
              "  }\n",
              "\n",
              "  .colab-df-quickchart-complete:disabled,\n",
              "  .colab-df-quickchart-complete:disabled:hover {\n",
              "    background-color: var(--disabled-bg-color);\n",
              "    fill: var(--disabled-fill-color);\n",
              "    box-shadow: none;\n",
              "  }\n",
              "\n",
              "  .colab-df-spinner {\n",
              "    border: 2px solid var(--fill-color);\n",
              "    border-color: transparent;\n",
              "    border-bottom-color: var(--fill-color);\n",
              "    animation:\n",
              "      spin 1s steps(1) infinite;\n",
              "  }\n",
              "\n",
              "  @keyframes spin {\n",
              "    0% {\n",
              "      border-color: transparent;\n",
              "      border-bottom-color: var(--fill-color);\n",
              "      border-left-color: var(--fill-color);\n",
              "    }\n",
              "    20% {\n",
              "      border-color: transparent;\n",
              "      border-left-color: var(--fill-color);\n",
              "      border-top-color: var(--fill-color);\n",
              "    }\n",
              "    30% {\n",
              "      border-color: transparent;\n",
              "      border-left-color: var(--fill-color);\n",
              "      border-top-color: var(--fill-color);\n",
              "      border-right-color: var(--fill-color);\n",
              "    }\n",
              "    40% {\n",
              "      border-color: transparent;\n",
              "      border-right-color: var(--fill-color);\n",
              "      border-top-color: var(--fill-color);\n",
              "    }\n",
              "    60% {\n",
              "      border-color: transparent;\n",
              "      border-right-color: var(--fill-color);\n",
              "    }\n",
              "    80% {\n",
              "      border-color: transparent;\n",
              "      border-right-color: var(--fill-color);\n",
              "      border-bottom-color: var(--fill-color);\n",
              "    }\n",
              "    90% {\n",
              "      border-color: transparent;\n",
              "      border-bottom-color: var(--fill-color);\n",
              "    }\n",
              "  }\n",
              "</style>\n",
              "\n",
              "  <script>\n",
              "    async function quickchart(key) {\n",
              "      const quickchartButtonEl =\n",
              "        document.querySelector('#' + key + ' button');\n",
              "      quickchartButtonEl.disabled = true;  // To prevent multiple clicks.\n",
              "      quickchartButtonEl.classList.add('colab-df-spinner');\n",
              "      try {\n",
              "        const charts = await google.colab.kernel.invokeFunction(\n",
              "            'suggestCharts', [key], {});\n",
              "      } catch (error) {\n",
              "        console.error('Error during call to suggestCharts:', error);\n",
              "      }\n",
              "      quickchartButtonEl.classList.remove('colab-df-spinner');\n",
              "      quickchartButtonEl.classList.add('colab-df-quickchart-complete');\n",
              "    }\n",
              "    (() => {\n",
              "      let quickchartButtonEl =\n",
              "        document.querySelector('#df-daaecf21-9176-489a-9e91-84938b387090 button');\n",
              "      quickchartButtonEl.style.display =\n",
              "        google.colab.kernel.accessAllowed ? 'block' : 'none';\n",
              "    })();\n",
              "  </script>\n",
              "</div>\n",
              "\n",
              "    </div>\n",
              "  </div>\n"
            ],
            "application/vnd.google.colaboratory.intrinsic+json": {
              "type": "dataframe",
              "variable_name": "df",
              "summary": "{\n  \"name\": \"df\",\n  \"rows\": 4269,\n  \"fields\": [\n    {\n      \"column\": \"loan_id\",\n      \"properties\": {\n        \"dtype\": \"number\",\n        \"std\": 1232,\n        \"min\": 1,\n        \"max\": 4269,\n        \"num_unique_values\": 4269,\n        \"samples\": [\n          1704,\n          1174,\n          309\n        ],\n        \"semantic_type\": \"\",\n        \"description\": \"\"\n      }\n    },\n    {\n      \"column\": \" no_of_dependents\",\n      \"properties\": {\n        \"dtype\": \"number\",\n        \"std\": 1,\n        \"min\": 0,\n        \"max\": 5,\n        \"num_unique_values\": 6,\n        \"samples\": [\n          2,\n          0,\n          1\n        ],\n        \"semantic_type\": \"\",\n        \"description\": \"\"\n      }\n    },\n    {\n      \"column\": \" education\",\n      \"properties\": {\n        \"dtype\": \"category\",\n        \"num_unique_values\": 2,\n        \"samples\": [\n          \" Not Graduate\",\n          \" Graduate\"\n        ],\n        \"semantic_type\": \"\",\n        \"description\": \"\"\n      }\n    },\n    {\n      \"column\": \" self_employed\",\n      \"properties\": {\n        \"dtype\": \"category\",\n        \"num_unique_values\": 2,\n        \"samples\": [\n          \" Yes\",\n          \" No\"\n        ],\n        \"semantic_type\": \"\",\n        \"description\": \"\"\n      }\n    },\n    {\n      \"column\": \" income_annum\",\n      \"properties\": {\n        \"dtype\": \"number\",\n        \"std\": 2806839,\n        \"min\": 200000,\n        \"max\": 9900000,\n        \"num_unique_values\": 98,\n        \"samples\": [\n          6200000,\n          9300000\n        ],\n        \"semantic_type\": \"\",\n        \"description\": \"\"\n      }\n    },\n    {\n      \"column\": \" loan_amount\",\n      \"properties\": {\n        \"dtype\": \"number\",\n        \"std\": 9043362,\n        \"min\": 300000,\n        \"max\": 39500000,\n        \"num_unique_values\": 378,\n        \"samples\": [\n          25800000,\n          26100000\n        ],\n        \"semantic_type\": \"\",\n        \"description\": \"\"\n      }\n    },\n    {\n      \"column\": \" loan_term\",\n      \"properties\": {\n        \"dtype\": \"number\",\n        \"std\": 5,\n        \"min\": 2,\n        \"max\": 20,\n        \"num_unique_values\": 10,\n        \"samples\": [\n          14,\n          8\n        ],\n        \"semantic_type\": \"\",\n        \"description\": \"\"\n      }\n    },\n    {\n      \"column\": \" cibil_score\",\n      \"properties\": {\n        \"dtype\": \"number\",\n        \"std\": 172,\n        \"min\": 300,\n        \"max\": 900,\n        \"num_unique_values\": 601,\n        \"samples\": [\n          859,\n          414\n        ],\n        \"semantic_type\": \"\",\n        \"description\": \"\"\n      }\n    },\n    {\n      \"column\": \" residential_assets_value\",\n      \"properties\": {\n        \"dtype\": \"number\",\n        \"std\": 6503636,\n        \"min\": -100000,\n        \"max\": 29100000,\n        \"num_unique_values\": 278,\n        \"samples\": [\n          700000,\n          3500000\n        ],\n        \"semantic_type\": \"\",\n        \"description\": \"\"\n      }\n    },\n    {\n      \"column\": \" commercial_assets_value\",\n      \"properties\": {\n        \"dtype\": \"number\",\n        \"std\": 4388966,\n        \"min\": 0,\n        \"max\": 19400000,\n        \"num_unique_values\": 188,\n        \"samples\": [\n          13500000,\n          14600000\n        ],\n        \"semantic_type\": \"\",\n        \"description\": \"\"\n      }\n    },\n    {\n      \"column\": \" luxury_assets_value\",\n      \"properties\": {\n        \"dtype\": \"number\",\n        \"std\": 9103753,\n        \"min\": 300000,\n        \"max\": 39200000,\n        \"num_unique_values\": 379,\n        \"samples\": [\n          15300000,\n          12100000\n        ],\n        \"semantic_type\": \"\",\n        \"description\": \"\"\n      }\n    },\n    {\n      \"column\": \" bank_asset_value\",\n      \"properties\": {\n        \"dtype\": \"number\",\n        \"std\": 3250185,\n        \"min\": 0,\n        \"max\": 14700000,\n        \"num_unique_values\": 146,\n        \"samples\": [\n          4800000,\n          14400000\n        ],\n        \"semantic_type\": \"\",\n        \"description\": \"\"\n      }\n    },\n    {\n      \"column\": \" loan_status\",\n      \"properties\": {\n        \"dtype\": \"category\",\n        \"num_unique_values\": 2,\n        \"samples\": [\n          \" Rejected\",\n          \" Approved\"\n        ],\n        \"semantic_type\": \"\",\n        \"description\": \"\"\n      }\n    }\n  ]\n}"
            }
          },
          "metadata": {},
          "execution_count": 23
        }
      ],
      "source": [
        "df = pd.read_csv(\"/content/loan_approval_dataset.csv\")\n",
        "df.head(3)"
      ]
    },
    {
      "cell_type": "code",
      "execution_count": 24,
      "metadata": {
        "colab": {
          "base_uri": "https://localhost:8080/"
        },
        "id": "yTowNn0WI8o3",
        "outputId": "95a9164b-2042-447a-ffc7-acff527dec8f"
      },
      "outputs": [
        {
          "output_type": "stream",
          "name": "stdout",
          "text": [
            "Column names in the DataFrame before stripping spaces:\n",
            "['loan_id', ' no_of_dependents', ' education', ' self_employed', ' income_annum', ' loan_amount', ' loan_term', ' cibil_score', ' residential_assets_value', ' commercial_assets_value', ' luxury_assets_value', ' bank_asset_value', ' loan_status']\n"
          ]
        }
      ],
      "source": [
        "print(\"Column names in the DataFrame before stripping spaces:\")\n",
        "print(df.columns.tolist())"
      ]
    },
    {
      "cell_type": "code",
      "execution_count": 25,
      "metadata": {
        "colab": {
          "base_uri": "https://localhost:8080/"
        },
        "id": "nqXGqHy6I_mF",
        "outputId": "c302e263-ab33-472c-8e50-c6fca60f83c7"
      },
      "outputs": [
        {
          "output_type": "stream",
          "name": "stdout",
          "text": [
            "Column names after stripping spaces:\n",
            "['loan_id', 'no_of_dependents', 'education', 'self_employed', 'income_annum', 'loan_amount', 'loan_term', 'cibil_score', 'residential_assets_value', 'commercial_assets_value', 'luxury_assets_value', 'bank_asset_value', 'loan_status']\n"
          ]
        }
      ],
      "source": [
        "df.columns = df.columns.str.strip()\n",
        "print(\"Column names after stripping spaces:\")\n",
        "print(df.columns.tolist())"
      ]
    },
    {
      "cell_type": "code",
      "execution_count": 26,
      "metadata": {
        "id": "Oyv-in8KJCXP"
      },
      "outputs": [],
      "source": [
        "if 'loan_id' in df.columns:\n",
        "    df = df.drop(['loan_id'], axis=1)"
      ]
    },
    {
      "cell_type": "code",
      "execution_count": 27,
      "metadata": {
        "id": "4I8woKkdJEqa"
      },
      "outputs": [],
      "source": [
        "from sklearn.preprocessing import LabelEncoder\n",
        "le = LabelEncoder()\n",
        "\n",
        "df[\"education\"] = le.fit_transform(df[\"education\"])\n",
        "df[\"self_employed\"] = le.fit_transform(df[\"self_employed\"])\n",
        "df[\"loan_status\"] = le.fit_transform(df[\"loan_status\"])"
      ]
    },
    {
      "cell_type": "code",
      "execution_count": 28,
      "metadata": {
        "id": "mCa48Pp4JGhn"
      },
      "outputs": [],
      "source": [
        "df.fillna(df.median(), inplace=True)"
      ]
    },
    {
      "cell_type": "code",
      "execution_count": 30,
      "metadata": {
        "id": "YNTjvAp3JIix"
      },
      "outputs": [],
      "source": [
        "from sklearn.preprocessing import StandardScaler\n",
        "numerical_features = df.select_dtypes(include=['int64', 'float64']).columns.tolist()\n",
        "if \"loan_status\" in numerical_features:\n",
        "    numerical_features.remove(\"loan_status\")\n",
        "scaler = StandardScaler()\n",
        "df[numerical_features] = scaler.fit_transform(df[numerical_features])\n"
      ]
    },
    {
      "cell_type": "code",
      "execution_count": 31,
      "metadata": {
        "id": "6oc5xxbMJKN_"
      },
      "outputs": [],
      "source": [
        "\n",
        "x = df.drop([\"loan_status\"],axis=1)\n",
        "y = df[\"loan_status\"]\n",
        "\n",
        "from sklearn.model_selection import train_test_split\n",
        "x_train,x_test,y_train,y_test = train_test_split(x,y,test_size=0.1)"
      ]
    },
    {
      "cell_type": "code",
      "execution_count": 32,
      "metadata": {
        "id": "UVG6BI34JMAc"
      },
      "outputs": [],
      "source": [
        "from sklearn.linear_model import LogisticRegression\n",
        "reg = LogisticRegression()\n",
        "reg.fit(x_train,y_train)\n",
        "regpred = reg.predict(x_test)"
      ]
    },
    {
      "cell_type": "code",
      "execution_count": 33,
      "metadata": {
        "colab": {
          "base_uri": "https://localhost:8080/"
        },
        "id": "AHh2lTUnJNa7",
        "outputId": "79e9a7cc-81a9-47a5-fbf8-d53de1b2a3cc"
      },
      "outputs": [
        {
          "output_type": "stream",
          "name": "stdout",
          "text": [
            "              precision    recall  f1-score   support\n",
            "\n",
            "           0       0.91      0.93      0.92       256\n",
            "           1       0.89      0.87      0.88       171\n",
            "\n",
            "    accuracy                           0.90       427\n",
            "   macro avg       0.90      0.90      0.90       427\n",
            "weighted avg       0.90      0.90      0.90       427\n",
            "\n",
            "Accuracy of Logistic Regression is :  90.1639344262295\n"
          ]
        }
      ],
      "source": [
        "from sklearn.metrics import classification_report,confusion_matrix,accuracy_score\n",
        "print(classification_report(y_test,regpred))\n",
        "print(\"Accuracy of Logistic Regression is : \",accuracy_score(y_test,regpred)*100)"
      ]
    },
    {
      "cell_type": "code",
      "execution_count": 34,
      "metadata": {
        "colab": {
          "base_uri": "https://localhost:8080/"
        },
        "id": "dZHOIFqpJO0Q",
        "outputId": "a3e72d0f-3e8c-4b10-eaa6-d551639a44d4"
      },
      "outputs": [
        {
          "output_type": "stream",
          "name": "stdout",
          "text": [
            "Confusion Matrix:\n",
            " [[224  32]\n",
            " [ 26 145]]\n",
            "\n",
            "Classification Report:\n",
            "               precision    recall  f1-score   support\n",
            "\n",
            "           0       0.90      0.88      0.89       256\n",
            "           1       0.82      0.85      0.83       171\n",
            "\n",
            "    accuracy                           0.86       427\n",
            "   macro avg       0.86      0.86      0.86       427\n",
            "weighted avg       0.87      0.86      0.86       427\n",
            "\n"
          ]
        }
      ],
      "source": [
        "from sklearn.neighbors import KNeighborsClassifier\n",
        "knn = KNeighborsClassifier(n_neighbors=3)\n",
        "knn.fit(x_train, y_train)\n",
        "y_pred = knn.predict(x_test)\n",
        "print(\"Confusion Matrix:\\n\", confusion_matrix(y_test, y_pred))\n",
        "print(\"\\nClassification Report:\\n\", classification_report(y_test, y_pred))"
      ]
    },
    {
      "cell_type": "code",
      "execution_count": 35,
      "metadata": {
        "id": "Top37gSiJQrX"
      },
      "outputs": [],
      "source": [
        "import pickle"
      ]
    },
    {
      "cell_type": "code",
      "execution_count": 36,
      "metadata": {
        "id": "hgtM6tCcJUTP"
      },
      "outputs": [],
      "source": [
        "filename = 'loan_model.pkl'\n",
        "pickle.dump(reg, open(filename, 'wb'))"
      ]
    },
    {
      "cell_type": "code",
      "execution_count": 37,
      "metadata": {
        "id": "i54mBldHJbpr"
      },
      "outputs": [],
      "source": [
        "load_model = pickle.load(open(filename, 'rb'))"
      ]
    },
    {
      "cell_type": "code",
      "execution_count": 38,
      "metadata": {
        "id": "hAEXkemMQ_S5"
      },
      "outputs": [],
      "source": [
        "!pip install -q streamlit"
      ]
    },
    {
      "cell_type": "code",
      "source": [
        "!wget -q -O - ipv4.icanhazip.com"
      ],
      "metadata": {
        "colab": {
          "base_uri": "https://localhost:8080/"
        },
        "id": "Cq2xe9g-_PiF",
        "outputId": "fbc7abd5-3731-4608-b1cd-c8b84116fe8b"
      },
      "execution_count": 39,
      "outputs": [
        {
          "output_type": "stream",
          "name": "stdout",
          "text": [
            "104.199.162.99\n"
          ]
        }
      ]
    },
    {
      "cell_type": "code",
      "execution_count": 40,
      "metadata": {
        "colab": {
          "base_uri": "https://localhost:8080/"
        },
        "id": "QS1OF4UTJyaD",
        "outputId": "23b19512-f1cf-4247-d82c-fac63bdd9cf7"
      },
      "outputs": [
        {
          "output_type": "stream",
          "name": "stdout",
          "text": [
            "Overwriting my_streamlit_app.py\n"
          ]
        }
      ],
      "source": [
        "%%writefile my_streamlit_app.py\n",
        "import streamlit as st\n",
        "import pickle\n",
        "import numpy as np\n",
        "\n",
        "filename = 'loan_model.pkl'\n",
        "loaded_model = pickle.load(open(filename, 'rb'))\n",
        "\n",
        "st.title('Loan Approval Prediction App')\n",
        "st.header('Please enter the following details:')\n",
        "\n",
        "gender = st.selectbox('Gender', ['Male', 'Female'])\n",
        "married = st.selectbox('Marital Status', ['Yes', 'No'])\n",
        "dependents = st.selectbox('Number of Dependents', ['0', '1', '2', '3+'])\n",
        "education = st.selectbox('Education Level', ['Graduate', 'Not Graduate'])\n",
        "self_employed = st.selectbox('Self-Employed', ['Yes', 'No'])\n",
        "applicant_income = st.number_input('Applicant Income')\n",
        "coapplicant_income = st.number_input('Co-Applicant Income')\n",
        "loan_amount = st.number_input('Loan Amount')\n",
        "loan_term = st.number_input('Loan Term (in months)')\n",
        "credit_history = st.selectbox('Credit History', ['0', '1'])\n",
        "property_area = st.selectbox('Property Area', ['Urban', 'Semiurban', 'Rural'])\n",
        "\n",
        "gender_encoded = 1 if gender == 'Male' else 0\n",
        "married_encoded = 1 if married == 'Yes' else 0\n",
        "dependents_encoded = 3 if dependents == '3+' else int(dependents)\n",
        "education_encoded = 1 if education == 'Graduate' else 0\n",
        "self_employed_encoded = 1 if self_employed == 'Yes' else 0\n",
        "credit_history_encoded = int(credit_history)\n",
        "property_area_encoded = {'Urban': 0, 'Rural': 1, 'Semiurban': 2}[property_area]\n",
        "\n",
        "input_data = [\n",
        "    gender_encoded, married_encoded, dependents_encoded, education_encoded,\n",
        "    self_employed_encoded, applicant_income, coapplicant_income, loan_amount,\n",
        "    loan_term, credit_history_encoded, property_area_encoded\n",
        "]\n",
        "\n",
        "try:\n",
        "    st.write(\"Collected input data:\", input_data)\n",
        "    input_values = [float(value) for value in input_data]\n",
        "    st.write(\"Converted input values:\", input_values)\n",
        "    if st.button('Predict Loan Approval'):\n",
        "        input_values = np.array(input_values).reshape(1, -1)\n",
        "        result = loaded_model.predict(input_values)\n",
        "        if result[0] == 0:\n",
        "            st.write('Sorry, your loan application is not approved.')\n",
        "        else:\n",
        "            st.write('Congratulations! Your loan application is approved.')\n",
        "except ValueError as e:\n",
        "    st.write(f\"Value error occurred: {e}\")\n",
        "except KeyError as e:\n",
        "    st.write(f\"Key error occurred: {e} - ensure all categorical values are correctly mapped.\")\n",
        "except Exception as e:\n",
        "    st.write(f\"An unexpected error occurred: {e}\")\n"
      ]
    },
    {
      "cell_type": "code",
      "source": [
        "!streamlit run my_streamlit_app.py & npx localtunnel --port 8501"
      ],
      "metadata": {
        "id": "Wzxza_Y0zjvN",
        "colab": {
          "base_uri": "https://localhost:8080/"
        },
        "outputId": "6af988e9-5fee-4035-8cc5-8518ac438b15"
      },
      "execution_count": null,
      "outputs": [
        {
          "output_type": "stream",
          "name": "stdout",
          "text": [
            "\n",
            "Collecting usage statistics. To deactivate, set browser.gatherUsageStats to false.\n",
            "\u001b[0m\n",
            "\u001b[0m\n",
            "\u001b[34m\u001b[1m  You can now view your Streamlit app in your browser.\u001b[0m\n",
            "\u001b[0m\n",
            "\u001b[34m  Local URL: \u001b[0m\u001b[1mhttp://localhost:8501\u001b[0m\n",
            "\u001b[34m  Network URL: \u001b[0m\u001b[1mhttp://172.28.0.12:8501\u001b[0m\n",
            "\u001b[34m  External URL: \u001b[0m\u001b[1mhttp://104.199.162.99:8501\u001b[0m\n",
            "\u001b[0m\n",
            "your url is: https://public-friends-fix.loca.lt\n",
            "/usr/local/lib/python3.10/dist-packages/sklearn/base.py:465: UserWarning: X does not have valid feature names, but LogisticRegression was fitted with feature names\n",
            "  warnings.warn(\n"
          ]
        }
      ]
    },
    {
      "cell_type": "code",
      "source": [],
      "metadata": {
        "id": "9dytVYjI_Yiv"
      },
      "execution_count": 21,
      "outputs": []
    }
  ],
  "metadata": {
    "colab": {
      "provenance": []
    },
    "kernelspec": {
      "display_name": "Python 3",
      "name": "python3"
    },
    "language_info": {
      "name": "python"
    }
  },
  "nbformat": 4,
  "nbformat_minor": 0
}